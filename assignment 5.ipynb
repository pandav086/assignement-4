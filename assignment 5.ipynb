{
 "cells": [
  {
   "cell_type": "code",
   "execution_count": null,
   "id": "4dd8babf",
   "metadata": {},
   "outputs": [],
   "source": [
    "What does an empty dictionary's code look like?"
   ]
  },
  {
   "cell_type": "code",
   "execution_count": null,
   "id": "778b08be",
   "metadata": {},
   "outputs": [],
   "source": [
    "ans-"
   ]
  },
  {
   "cell_type": "code",
   "execution_count": 1,
   "id": "3646fdc0",
   "metadata": {},
   "outputs": [
    {
     "data": {
      "text/plain": [
       "dict"
      ]
     },
     "execution_count": 1,
     "metadata": {},
     "output_type": "execute_result"
    }
   ],
   "source": [
    "dict = {}\n",
    "type(dict)"
   ]
  },
  {
   "cell_type": "code",
   "execution_count": null,
   "id": "ab11e40c",
   "metadata": {},
   "outputs": [],
   "source": []
  },
  {
   "cell_type": "code",
   "execution_count": null,
   "id": "d1ca017b",
   "metadata": {},
   "outputs": [],
   "source": [
    "What is the value of a dictionary value with the key 'foo' and the value 42?"
   ]
  },
  {
   "cell_type": "code",
   "execution_count": null,
   "id": "39f26c96",
   "metadata": {},
   "outputs": [],
   "source": [
    "ans-"
   ]
  },
  {
   "cell_type": "code",
   "execution_count": 2,
   "id": "e6c3baf7",
   "metadata": {},
   "outputs": [
    {
     "data": {
      "text/plain": [
       "{'foo': 42}"
      ]
     },
     "execution_count": 2,
     "metadata": {},
     "output_type": "execute_result"
    }
   ],
   "source": [
    "{'foo':42}"
   ]
  },
  {
   "cell_type": "code",
   "execution_count": null,
   "id": "853950df",
   "metadata": {},
   "outputs": [],
   "source": []
  },
  {
   "cell_type": "code",
   "execution_count": null,
   "id": "4ae35aa8",
   "metadata": {},
   "outputs": [],
   "source": [
    "What is the most significant distinction between a dictionary and a list?"
   ]
  },
  {
   "cell_type": "code",
   "execution_count": null,
   "id": "8d53b701",
   "metadata": {},
   "outputs": [],
   "source": [
    "ans - The order of the elements entered are maintained in list.\n",
    "There is no guarantee for maintaining order in dictionary.\n"
   ]
  },
  {
   "cell_type": "code",
   "execution_count": null,
   "id": "96f0067f",
   "metadata": {},
   "outputs": [],
   "source": []
  },
  {
   "cell_type": "code",
   "execution_count": null,
   "id": "5acd9f02",
   "metadata": {},
   "outputs": [],
   "source": []
  },
  {
   "cell_type": "code",
   "execution_count": null,
   "id": "55ff679e",
   "metadata": {},
   "outputs": [],
   "source": [
    "What happens if you try to access spam['foo'] if spam is {'bar': 100}?"
   ]
  },
  {
   "cell_type": "code",
   "execution_count": null,
   "id": "c22be929",
   "metadata": {},
   "outputs": [],
   "source": [
    "ans-"
   ]
  },
  {
   "cell_type": "code",
   "execution_count": 3,
   "id": "a8303536",
   "metadata": {},
   "outputs": [],
   "source": [
    "spam = {'bar': 100}"
   ]
  },
  {
   "cell_type": "code",
   "execution_count": 4,
   "id": "8ff8df1c",
   "metadata": {},
   "outputs": [
    {
     "ename": "KeyError",
     "evalue": "'foo'",
     "output_type": "error",
     "traceback": [
      "\u001b[1;31m---------------------------------------------------------------------------\u001b[0m",
      "\u001b[1;31mKeyError\u001b[0m                                  Traceback (most recent call last)",
      "\u001b[1;32m~\\AppData\\Local\\Temp/ipykernel_9536/4161307510.py\u001b[0m in \u001b[0;36m<module>\u001b[1;34m\u001b[0m\n\u001b[1;32m----> 1\u001b[1;33m \u001b[0mspam\u001b[0m\u001b[1;33m[\u001b[0m\u001b[1;34m'foo'\u001b[0m\u001b[1;33m]\u001b[0m\u001b[1;33m\u001b[0m\u001b[1;33m\u001b[0m\u001b[0m\n\u001b[0m",
      "\u001b[1;31mKeyError\u001b[0m: 'foo'"
     ]
    }
   ],
   "source": [
    "spam['foo'] "
   ]
  },
  {
   "cell_type": "code",
   "execution_count": null,
   "id": "2a6296d0",
   "metadata": {},
   "outputs": [],
   "source": [
    "there will be a error "
   ]
  },
  {
   "cell_type": "code",
   "execution_count": null,
   "id": "2692cc9a",
   "metadata": {},
   "outputs": [],
   "source": []
  },
  {
   "cell_type": "code",
   "execution_count": null,
   "id": "bc9f16b6",
   "metadata": {},
   "outputs": [],
   "source": []
  },
  {
   "cell_type": "code",
   "execution_count": null,
   "id": "350b6c68",
   "metadata": {},
   "outputs": [],
   "source": [
    "If a dictionary is stored in spam, what is the difference between the expressions 'cat' in spam and ?"
   ]
  },
  {
   "cell_type": "code",
   "execution_count": null,
   "id": "a709e92a",
   "metadata": {},
   "outputs": [],
   "source": [
    "ans-\n"
   ]
  },
  {
   "cell_type": "code",
   "execution_count": 5,
   "id": "0d9bc60d",
   "metadata": {},
   "outputs": [],
   "source": [
    "spam ={'cat':100}"
   ]
  },
  {
   "cell_type": "code",
   "execution_count": 10,
   "id": "2f119b99",
   "metadata": {},
   "outputs": [
    {
     "data": {
      "text/plain": [
       "True"
      ]
     },
     "execution_count": 10,
     "metadata": {},
     "output_type": "execute_result"
    }
   ],
   "source": [
    "'cat' in spam   #check if 'cat' is key of the dictionary and if its a key, returns True"
   ]
  },
  {
   "cell_type": "code",
   "execution_count": 14,
   "id": "8d299e08",
   "metadata": {},
   "outputs": [
    {
     "data": {
      "text/plain": [
       "True"
      ]
     },
     "execution_count": 14,
     "metadata": {},
     "output_type": "execute_result"
    }
   ],
   "source": [
    "'cat' in spam.keys()      #check if 'cat' is key of the dictionary and if its a key, returns True"
   ]
  },
  {
   "cell_type": "code",
   "execution_count": null,
   "id": "d9ced400",
   "metadata": {},
   "outputs": [],
   "source": []
  },
  {
   "cell_type": "code",
   "execution_count": null,
   "id": "d08351ef",
   "metadata": {},
   "outputs": [],
   "source": []
  },
  {
   "cell_type": "code",
   "execution_count": null,
   "id": "e8af48a0",
   "metadata": {},
   "outputs": [],
   "source": [
    "If a dictionary is stored in spam, what is the difference between the expressions 'cat' in spam and 'cat' in spam.values()?"
   ]
  },
  {
   "cell_type": "code",
   "execution_count": null,
   "id": "87a18bbd",
   "metadata": {},
   "outputs": [],
   "source": [
    "ans-"
   ]
  },
  {
   "cell_type": "code",
   "execution_count": 12,
   "id": "99439ae5",
   "metadata": {},
   "outputs": [],
   "source": [
    "spam ={'cat':100}"
   ]
  },
  {
   "cell_type": "code",
   "execution_count": 15,
   "id": "5ea29d10",
   "metadata": {},
   "outputs": [
    {
     "data": {
      "text/plain": [
       "True"
      ]
     },
     "execution_count": 15,
     "metadata": {},
     "output_type": "execute_result"
    }
   ],
   "source": [
    "'cat' in spam       #check if 'cat' is key of the dictionary and if its a key, returns True"
   ]
  },
  {
   "cell_type": "code",
   "execution_count": 17,
   "id": "16876d62",
   "metadata": {},
   "outputs": [
    {
     "data": {
      "text/plain": [
       "False"
      ]
     },
     "execution_count": 17,
     "metadata": {},
     "output_type": "execute_result"
    }
   ],
   "source": [
    "'cat' in spam.values()     # checks whether there is a value 'cat' for one of the keys in spam"
   ]
  },
  {
   "cell_type": "code",
   "execution_count": null,
   "id": "d63ff3a4",
   "metadata": {},
   "outputs": [],
   "source": []
  },
  {
   "cell_type": "code",
   "execution_count": null,
   "id": "c0d16bc6",
   "metadata": {},
   "outputs": [],
   "source": []
  },
  {
   "cell_type": "code",
   "execution_count": null,
   "id": "9392e7db",
   "metadata": {},
   "outputs": [],
   "source": [
    "What is a shortcut for the following code?"
   ]
  },
  {
   "cell_type": "code",
   "execution_count": null,
   "id": "76a19efb",
   "metadata": {},
   "outputs": [],
   "source": [
    "if color not in spam:\n",
    "spam[color] = black"
   ]
  },
  {
   "cell_type": "code",
   "execution_count": null,
   "id": "d0467e94",
   "metadata": {},
   "outputs": [],
   "source": []
  },
  {
   "cell_type": "code",
   "execution_count": 20,
   "id": "0d9902dd",
   "metadata": {},
   "outputs": [
    {
     "data": {
      "text/plain": [
       "{'cat': 100, 'color': 'black'}"
      ]
     },
     "execution_count": 20,
     "metadata": {},
     "output_type": "execute_result"
    }
   ],
   "source": [
    "spam ={'cat':100}\n",
    "spam.setdefault('color','black')\n",
    "spam"
   ]
  },
  {
   "cell_type": "code",
   "execution_count": null,
   "id": "39ca8b22",
   "metadata": {},
   "outputs": [],
   "source": []
  },
  {
   "cell_type": "code",
   "execution_count": null,
   "id": "1a3deae7",
   "metadata": {},
   "outputs": [],
   "source": []
  },
  {
   "cell_type": "code",
   "execution_count": null,
   "id": "726e73db",
   "metadata": {},
   "outputs": [],
   "source": [
    "How do you 'pretty print' dictionary values using which module and function?"
   ]
  },
  {
   "cell_type": "code",
   "execution_count": null,
   "id": "352477a2",
   "metadata": {},
   "outputs": [],
   "source": [
    "ans-"
   ]
  },
  {
   "cell_type": "code",
   "execution_count": null,
   "id": "9f4f97d2",
   "metadata": {},
   "outputs": [],
   "source": [
    "test_dict = {'gfg' : {'rate' : 5, 'remark' : 'good'}, 'cs' : {'rate' : 3}}"
   ]
  },
  {
   "cell_type": "code",
   "execution_count": 22,
   "id": "d3d1aa61",
   "metadata": {},
   "outputs": [
    {
     "name": "stdout",
     "output_type": "stream",
     "text": [
      "{'cs': {'rate': 3}, 'gfg': {'rate': 5, 'remark': 'good'}}\n"
     ]
    }
   ],
   "source": [
    "import pprint\n",
    "test_dict = {'gfg' : {'rate' : 5, 'remark' : 'good'}, 'cs' : {'rate' : 3}}\n",
    "\n",
    "pprint.pprint(test_dict)\n"
   ]
  },
  {
   "cell_type": "code",
   "execution_count": null,
   "id": "d128f9e1",
   "metadata": {},
   "outputs": [],
   "source": []
  },
  {
   "cell_type": "code",
   "execution_count": 23,
   "id": "875e9718",
   "metadata": {},
   "outputs": [
    {
     "data": {
      "text/plain": [
       "{'gfg': {'rate': 5, 'remark': 'good'}, 'cs': {'rate': 3}}"
      ]
     },
     "execution_count": 23,
     "metadata": {},
     "output_type": "execute_result"
    }
   ],
   "source": [
    "test_dict"
   ]
  },
  {
   "cell_type": "code",
   "execution_count": 37,
   "id": "2d7e19d5",
   "metadata": {},
   "outputs": [
    {
     "name": "stdout",
     "output_type": "stream",
     "text": [
      "gfg\n",
      "rate : 5\n",
      "remark : good\n",
      "cs\n",
      "rate : 3\n"
     ]
    }
   ],
   "source": [
    "for i in test_dict:\n",
    "    print(i)\n",
    "    \n",
    "    for j in test_dict[i]:\n",
    "        print( j, ':', test_dict[i][j])"
   ]
  },
  {
   "cell_type": "code",
   "execution_count": null,
   "id": "130156d6",
   "metadata": {},
   "outputs": [],
   "source": []
  },
  {
   "cell_type": "code",
   "execution_count": null,
   "id": "e50b529f",
   "metadata": {},
   "outputs": [],
   "source": []
  },
  {
   "cell_type": "code",
   "execution_count": null,
   "id": "eee19805",
   "metadata": {},
   "outputs": [],
   "source": []
  }
 ],
 "metadata": {
  "kernelspec": {
   "display_name": "Python 3 (ipykernel)",
   "language": "python",
   "name": "python3"
  },
  "language_info": {
   "codemirror_mode": {
    "name": "ipython",
    "version": 3
   },
   "file_extension": ".py",
   "mimetype": "text/x-python",
   "name": "python",
   "nbconvert_exporter": "python",
   "pygments_lexer": "ipython3",
   "version": "3.9.7"
  }
 },
 "nbformat": 4,
 "nbformat_minor": 5
}
